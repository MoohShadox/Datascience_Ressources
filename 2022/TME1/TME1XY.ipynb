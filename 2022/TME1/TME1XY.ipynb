{
 "cells": [
  {
   "cell_type": "code",
   "execution_count": 12,
   "id": "d4a606fb",
   "metadata": {},
   "outputs": [
    {
     "data": {
      "text/html": [
       "<div>\n",
       "<style scoped>\n",
       "    .dataframe tbody tr th:only-of-type {\n",
       "        vertical-align: middle;\n",
       "    }\n",
       "\n",
       "    .dataframe tbody tr th {\n",
       "        vertical-align: top;\n",
       "    }\n",
       "\n",
       "    .dataframe thead th {\n",
       "        text-align: right;\n",
       "    }\n",
       "</style>\n",
       "<table border=\"1\" class=\"dataframe\">\n",
       "  <thead>\n",
       "    <tr style=\"text-align: right;\">\n",
       "      <th></th>\n",
       "      <th>nom</th>\n",
       "      <th>latitude</th>\n",
       "      <th>longitude</th>\n",
       "      <th>note</th>\n",
       "      <th>prix</th>\n",
       "      <th>furniture_store</th>\n",
       "      <th>laundry</th>\n",
       "      <th>bakery</th>\n",
       "      <th>cafe</th>\n",
       "      <th>home_goods_store</th>\n",
       "      <th>clothing_store</th>\n",
       "      <th>atm</th>\n",
       "      <th>lodging</th>\n",
       "      <th>night_club</th>\n",
       "      <th>convenience_store</th>\n",
       "      <th>restaurant</th>\n",
       "      <th>bar</th>\n",
       "    </tr>\n",
       "  </thead>\n",
       "  <tbody>\n",
       "    <tr>\n",
       "      <th>0</th>\n",
       "      <td>Unopiu</td>\n",
       "      <td>48.866632</td>\n",
       "      <td>2.331637</td>\n",
       "      <td>2.2</td>\n",
       "      <td>-1</td>\n",
       "      <td>1</td>\n",
       "      <td>0</td>\n",
       "      <td>0</td>\n",
       "      <td>0</td>\n",
       "      <td>1</td>\n",
       "      <td>0</td>\n",
       "      <td>0</td>\n",
       "      <td>0</td>\n",
       "      <td>0</td>\n",
       "      <td>0</td>\n",
       "      <td>0</td>\n",
       "      <td>0</td>\n",
       "    </tr>\n",
       "    <tr>\n",
       "      <th>1</th>\n",
       "      <td>Olivier Hutzemakers</td>\n",
       "      <td>48.903289</td>\n",
       "      <td>2.339881</td>\n",
       "      <td>-1.0</td>\n",
       "      <td>-1</td>\n",
       "      <td>1</td>\n",
       "      <td>0</td>\n",
       "      <td>0</td>\n",
       "      <td>0</td>\n",
       "      <td>1</td>\n",
       "      <td>0</td>\n",
       "      <td>0</td>\n",
       "      <td>0</td>\n",
       "      <td>0</td>\n",
       "      <td>0</td>\n",
       "      <td>0</td>\n",
       "      <td>0</td>\n",
       "    </tr>\n",
       "    <tr>\n",
       "      <th>2</th>\n",
       "      <td>Téodor</td>\n",
       "      <td>48.847633</td>\n",
       "      <td>2.375378</td>\n",
       "      <td>-1.0</td>\n",
       "      <td>-1</td>\n",
       "      <td>1</td>\n",
       "      <td>0</td>\n",
       "      <td>0</td>\n",
       "      <td>0</td>\n",
       "      <td>1</td>\n",
       "      <td>0</td>\n",
       "      <td>0</td>\n",
       "      <td>0</td>\n",
       "      <td>0</td>\n",
       "      <td>0</td>\n",
       "      <td>0</td>\n",
       "      <td>0</td>\n",
       "    </tr>\n",
       "  </tbody>\n",
       "</table>\n",
       "</div>"
      ],
      "text/plain": [
       "                   nom   latitude  longitude  note  prix  furniture_store  \\\n",
       "0               Unopiu  48.866632   2.331637   2.2    -1                1   \n",
       "1  Olivier Hutzemakers  48.903289   2.339881  -1.0    -1                1   \n",
       "2               Téodor  48.847633   2.375378  -1.0    -1                1   \n",
       "\n",
       "   laundry  bakery  cafe  home_goods_store  clothing_store  atm  lodging  \\\n",
       "0        0       0     0                 1               0    0        0   \n",
       "1        0       0     0                 1               0    0        0   \n",
       "2        0       0     0                 1               0    0        0   \n",
       "\n",
       "   night_club  convenience_store  restaurant  bar  \n",
       "0           0                  0           0    0  \n",
       "1           0                  0           0    0  \n",
       "2           0                  0           0    0  "
      ]
     },
     "execution_count": 12,
     "metadata": {},
     "output_type": "execute_result"
    }
   ],
   "source": [
    "import pandas as pd\n",
    "import numpy as np\n",
    "\n",
    "!git clone https://github.com/MoohShadox/Datascience_Ressources.git"
   ]
  },
  {
   "cell_type": "code",
   "execution_count": null,
   "id": "b51a3cb6",
   "metadata": {},
   "outputs": [],
   "source": [
    "df = pd.read_csv(\"poi-paris.csv\")\n",
    "df.head(3)"
   ]
  },
  {
   "cell_type": "markdown",
   "id": "a205da5b",
   "metadata": {},
   "source": [
    "Ce notebook a pour but d'aider a la révision des différentes notions vues lors des TME1-X et Y.\n",
    "Il présente une façon de revoir une partie des notions qui y sont étudiés et des exercices de synthèses pour s'exercer.\n",
    "\n",
    "C'est une ressource purement liée a une initiative personnelle du chargé de TME du groupe 11.6."
   ]
  },
  {
   "cell_type": "markdown",
   "id": "7ab0948e",
   "metadata": {},
   "source": [
    "# Extraction de données\n",
    "\n",
    "Les premières notions vues en TME servent principalement a **extraire** des données a partir d'un DataFrame, ces notions permettent notamment de:\n",
    "- Récupérer et afficher les dimensions d'un DataFrame (lignes et colonnes).\n",
    "- Récupérer et afficher les intitulés des colonnes.\n",
    "- Décrire les colonnes (nombre de valeurs, moyenne, variance, quartiles etc...)\n",
    "- Afficher une ou plusieurs colonnes.\n",
    "- Afficher une ou plusieurs lignes.\n",
    "- Utiliser le slicing pour afficher une fraction contigue du DataFrame.\n",
    "\n",
    "#### Exercice: \n",
    "Décrivez le DataFrame composé des 5 premières colonnes et des 500 dernières lignes du dataframe **df** défini plus haut."
   ]
  },
  {
   "cell_type": "code",
   "execution_count": 15,
   "id": "471dd6d9",
   "metadata": {},
   "outputs": [
    {
     "data": {
      "text/html": [
       "<div>\n",
       "<style scoped>\n",
       "    .dataframe tbody tr th:only-of-type {\n",
       "        vertical-align: middle;\n",
       "    }\n",
       "\n",
       "    .dataframe tbody tr th {\n",
       "        vertical-align: top;\n",
       "    }\n",
       "\n",
       "    .dataframe thead th {\n",
       "        text-align: right;\n",
       "    }\n",
       "</style>\n",
       "<table border=\"1\" class=\"dataframe\">\n",
       "  <thead>\n",
       "    <tr style=\"text-align: right;\">\n",
       "      <th></th>\n",
       "      <th>latitude</th>\n",
       "      <th>longitude</th>\n",
       "      <th>note</th>\n",
       "      <th>prix</th>\n",
       "    </tr>\n",
       "  </thead>\n",
       "  <tbody>\n",
       "    <tr>\n",
       "      <th>count</th>\n",
       "      <td>500.000000</td>\n",
       "      <td>500.000000</td>\n",
       "      <td>500.000000</td>\n",
       "      <td>500.000000</td>\n",
       "    </tr>\n",
       "    <tr>\n",
       "      <th>mean</th>\n",
       "      <td>48.864284</td>\n",
       "      <td>2.337902</td>\n",
       "      <td>2.533600</td>\n",
       "      <td>-0.968000</td>\n",
       "    </tr>\n",
       "    <tr>\n",
       "      <th>std</th>\n",
       "      <td>0.029211</td>\n",
       "      <td>0.052702</td>\n",
       "      <td>2.348809</td>\n",
       "      <td>0.362269</td>\n",
       "    </tr>\n",
       "    <tr>\n",
       "      <th>min</th>\n",
       "      <td>48.806230</td>\n",
       "      <td>2.230666</td>\n",
       "      <td>-1.000000</td>\n",
       "      <td>-1.000000</td>\n",
       "    </tr>\n",
       "    <tr>\n",
       "      <th>25%</th>\n",
       "      <td>48.841415</td>\n",
       "      <td>2.295367</td>\n",
       "      <td>-1.000000</td>\n",
       "      <td>-1.000000</td>\n",
       "    </tr>\n",
       "    <tr>\n",
       "      <th>50%</th>\n",
       "      <td>48.866155</td>\n",
       "      <td>2.340387</td>\n",
       "      <td>3.800000</td>\n",
       "      <td>-1.000000</td>\n",
       "    </tr>\n",
       "    <tr>\n",
       "      <th>75%</th>\n",
       "      <td>48.888410</td>\n",
       "      <td>2.375820</td>\n",
       "      <td>4.300000</td>\n",
       "      <td>-1.000000</td>\n",
       "    </tr>\n",
       "    <tr>\n",
       "      <th>max</th>\n",
       "      <td>48.915476</td>\n",
       "      <td>2.478696</td>\n",
       "      <td>5.000000</td>\n",
       "      <td>4.000000</td>\n",
       "    </tr>\n",
       "  </tbody>\n",
       "</table>\n",
       "</div>"
      ],
      "text/plain": [
       "         latitude   longitude        note        prix\n",
       "count  500.000000  500.000000  500.000000  500.000000\n",
       "mean    48.864284    2.337902    2.533600   -0.968000\n",
       "std      0.029211    0.052702    2.348809    0.362269\n",
       "min     48.806230    2.230666   -1.000000   -1.000000\n",
       "25%     48.841415    2.295367   -1.000000   -1.000000\n",
       "50%     48.866155    2.340387    3.800000   -1.000000\n",
       "75%     48.888410    2.375820    4.300000   -1.000000\n",
       "max     48.915476    2.478696    5.000000    4.000000"
      ]
     },
     "execution_count": 15,
     "metadata": {},
     "output_type": "execute_result"
    }
   ],
   "source": [
    "## A vous de jouer.\n"
   ]
  },
  {
   "cell_type": "markdown",
   "id": "4dbc3658",
   "metadata": {},
   "source": [
    "# Filtrer les données\n",
    "\n",
    "Une fois qu'on a accés aux données d'un fichier a travers un DataFrame, on peut être intéressés par une observation partielle de ces données et donc on cherchera a les filtrer, ceci peut concerner:\n",
    "- Récupérer toutes les valeurs possibles d'une colonne (les modalités d'une variable).\n",
    "- Filtrer les lignes en fonction d'une condition logique sur les valeurs pour une colonne donnée.\n",
    "- Utiliser des opérateurs logiques pour combiner des conditions logiques.\n",
    "\n",
    "#### Exercice: \n",
    "Affichez le nombre de bar pour chaque prix possible."
   ]
  },
  {
   "cell_type": "code",
   "execution_count": null,
   "id": "8497c75f",
   "metadata": {},
   "outputs": [],
   "source": [
    "#A vous de jouer."
   ]
  },
  {
   "cell_type": "markdown",
   "id": "f32c1c00",
   "metadata": {},
   "source": [
    "# Aggréger les données et les étudier\n",
    "\n",
    "Les deux premiers points servaient a intéroger les données, les deux qui viennent concernerons plutot l'interprétation des données.\n",
    "\n",
    "- Calculer des indicateurs statistiqus (Moyennes, Fréquences, Variances, Quartiles ...) \n",
    "- Intérpréter les indicateurs statistiques.\n",
    "- Utiliser ces indicateurs statistiques pour répondre a des énoncés.\n",
    "\n",
    "#### Exercices: \n",
    "\n",
    "- Les bars qui font aussi restaurant sont-ils mieux notés en général ?\n",
    "- Quels types d'établissement ont les notes les plus dispersées ?\n",
    "- Le prix est-il corrélé a la distance au centre de Paris ?"
   ]
  },
  {
   "cell_type": "code",
   "execution_count": null,
   "id": "8d1f7d94",
   "metadata": {},
   "outputs": [],
   "source": [
    "## A vous de jouer.\n"
   ]
  },
  {
   "cell_type": "code",
   "execution_count": null,
   "id": "ef20f77c",
   "metadata": {},
   "outputs": [],
   "source": [
    "## A vous de jouer.\n"
   ]
  },
  {
   "cell_type": "code",
   "execution_count": null,
   "id": "3bdbc2ff",
   "metadata": {},
   "outputs": [],
   "source": [
    "## A vous de jouer.\n"
   ]
  },
  {
   "cell_type": "markdown",
   "id": "2edd0522",
   "metadata": {},
   "source": [
    "# Visualiser les données\n",
    "Maintenant que nous savons extraire, filtrer et étudier les données pour les interpréter, il faut rendre notre interprétation la plus convaincante possible pour des personnes externes a notre domaine.\n",
    "\n",
    "Pour se faire on peut recourir a un visuel pour mettre en exergue la dimension des données qu'on souhaite mettre en avant et a ce moment la il faut:\n",
    "- Identifier le plot a utiliser.\n",
    "- Lire sa documentation pour comprendre les paramètres qu'il prend et ce qu'ils signifient.\n",
    "- Extraire les différents composants dont on aura besoin pour l'afficher.\n",
    "- L'afficher et le commenter.\n",
    "\n",
    "Si on reprend les trois énoncés précédents on peut par exemple proposer les énoncés suivants: \n",
    "\n",
    "#### Exercices: \n",
    "\n",
    "- Utilisez un bar plot pour comparer les notes des bars et des bars-restaurants.\n",
    "- Utilisez un violin plot pour étudier la dispersion des notes pour chaque établissement.\n",
    "- Utilisez un scatter plot pour étuider la dispersion spatiale des notes dans Paris."
   ]
  },
  {
   "cell_type": "code",
   "execution_count": null,
   "id": "fed66c8c",
   "metadata": {},
   "outputs": [],
   "source": [
    "## A vous de jouer.\n"
   ]
  },
  {
   "cell_type": "code",
   "execution_count": null,
   "id": "7174fb78",
   "metadata": {},
   "outputs": [],
   "source": [
    "## A vous de jouer.\n"
   ]
  },
  {
   "cell_type": "code",
   "execution_count": null,
   "id": "6cc7c017",
   "metadata": {},
   "outputs": [],
   "source": [
    "## A vous de jouer.\n"
   ]
  },
  {
   "cell_type": "markdown",
   "id": "de9d2385",
   "metadata": {},
   "source": [
    "# Ressources additionnels\n",
    "\n",
    "Des ressources en plus que je trouve intéressantes a lire\n",
    "- Un guide de Pandas https://medium.com/swlh/the-mastery-of-pandas-i-50156db42125\n",
    "- Une explication visuelle de comment NumPy fonctionne https://betterprogramming.pub/numpy-illustrated-the-visual-guide-to-numpy-3b1d4976de1d\n",
    "- Pourquoi il ne faut pas faire de boucles quand on peut utiliser Pandas : Parce que ça peut être 71.803 fois plus lent https://towardsdatascience.com/how-to-make-your-pandas-loop-71-803-times-faster-805030df4f06"
   ]
  },
  {
   "cell_type": "code",
   "execution_count": null,
   "id": "5d405c50",
   "metadata": {},
   "outputs": [],
   "source": []
  }
 ],
 "metadata": {
  "kernelspec": {
   "display_name": "Python 3 (ipykernel)",
   "language": "python",
   "name": "python3"
  },
  "language_info": {
   "codemirror_mode": {
    "name": "ipython",
    "version": 3
   },
   "file_extension": ".py",
   "mimetype": "text/x-python",
   "name": "python",
   "nbconvert_exporter": "python",
   "pygments_lexer": "ipython3",
   "version": "3.9.12"
  }
 },
 "nbformat": 4,
 "nbformat_minor": 5
}
