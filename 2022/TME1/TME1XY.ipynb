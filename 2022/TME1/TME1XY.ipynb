{
  "cells": [
    {
      "cell_type": "markdown",
      "metadata": {
        "id": "view-in-github",
        "colab_type": "text"
      },
      "source": [
        "<a href=\"https://colab.research.google.com/github/ouaguenouni/Datascience_Ressources/blob/main/2022/TME1/TME1XY.ipynb\" target=\"_parent\"><img src=\"https://colab.research.google.com/assets/colab-badge.svg\" alt=\"Open In Colab\"/></a>"
      ]
    },
    {
      "cell_type": "code",
      "execution_count": 1,
      "id": "d4a606fb",
      "metadata": {
        "id": "d4a606fb",
        "outputId": "d7eac21f-8318-471d-cb15-e7c9d18484bf",
        "colab": {
          "base_uri": "https://localhost:8080/"
        }
      },
      "outputs": [
        {
          "output_type": "stream",
          "name": "stdout",
          "text": [
            "Cloning into 'Datascience_Ressources'...\n",
            "remote: Enumerating objects: 13, done.\u001b[K\n",
            "remote: Counting objects: 100% (13/13), done.\u001b[K\n",
            "remote: Compressing objects: 100% (10/10), done.\u001b[K\n",
            "remote: Total 13 (delta 0), reused 7 (delta 0), pack-reused 0\u001b[K\n",
            "Unpacking objects: 100% (13/13), done.\n"
          ]
        }
      ],
      "source": [
        "import pandas as pd\n",
        "import numpy as np\n",
        "\n",
        "!git clone https://github.com/MoohShadox/Datascience_Ressources.git"
      ]
    },
    {
      "cell_type": "code",
      "source": [
        "!ls Datascience_Ressources/2022"
      ],
      "metadata": {
        "id": "B4S0_fZLnj28",
        "outputId": "e0b5fe47-30f9-4d20-ed92-1fcaf3179678",
        "colab": {
          "base_uri": "https://localhost:8080/"
        }
      },
      "id": "B4S0_fZLnj28",
      "execution_count": 5,
      "outputs": [
        {
          "output_type": "stream",
          "name": "stdout",
          "text": [
            "TME1\n"
          ]
        }
      ]
    },
    {
      "cell_type": "code",
      "execution_count": 6,
      "id": "b51a3cb6",
      "metadata": {
        "id": "b51a3cb6",
        "outputId": "545270fb-a15d-41b3-e3ba-34763abcb82f",
        "colab": {
          "base_uri": "https://localhost:8080/",
          "height": 143
        }
      },
      "outputs": [
        {
          "output_type": "execute_result",
          "data": {
            "text/plain": [
              "                   nom   latitude  longitude  note  prix  furniture_store  \\\n",
              "0               Unopiu  48.866632   2.331637   2.2    -1                1   \n",
              "1  Olivier Hutzemakers  48.903289   2.339881  -1.0    -1                1   \n",
              "2               Téodor  48.847633   2.375378  -1.0    -1                1   \n",
              "\n",
              "   laundry  bakery  cafe  home_goods_store  clothing_store  atm  lodging  \\\n",
              "0        0       0     0                 1               0    0        0   \n",
              "1        0       0     0                 1               0    0        0   \n",
              "2        0       0     0                 1               0    0        0   \n",
              "\n",
              "   night_club  convenience_store  restaurant  bar  \n",
              "0           0                  0           0    0  \n",
              "1           0                  0           0    0  \n",
              "2           0                  0           0    0  "
            ],
            "text/html": [
              "\n",
              "  <div id=\"df-f0cd5b73-d1fc-4217-a6e1-ffb9942e57d3\">\n",
              "    <div class=\"colab-df-container\">\n",
              "      <div>\n",
              "<style scoped>\n",
              "    .dataframe tbody tr th:only-of-type {\n",
              "        vertical-align: middle;\n",
              "    }\n",
              "\n",
              "    .dataframe tbody tr th {\n",
              "        vertical-align: top;\n",
              "    }\n",
              "\n",
              "    .dataframe thead th {\n",
              "        text-align: right;\n",
              "    }\n",
              "</style>\n",
              "<table border=\"1\" class=\"dataframe\">\n",
              "  <thead>\n",
              "    <tr style=\"text-align: right;\">\n",
              "      <th></th>\n",
              "      <th>nom</th>\n",
              "      <th>latitude</th>\n",
              "      <th>longitude</th>\n",
              "      <th>note</th>\n",
              "      <th>prix</th>\n",
              "      <th>furniture_store</th>\n",
              "      <th>laundry</th>\n",
              "      <th>bakery</th>\n",
              "      <th>cafe</th>\n",
              "      <th>home_goods_store</th>\n",
              "      <th>clothing_store</th>\n",
              "      <th>atm</th>\n",
              "      <th>lodging</th>\n",
              "      <th>night_club</th>\n",
              "      <th>convenience_store</th>\n",
              "      <th>restaurant</th>\n",
              "      <th>bar</th>\n",
              "    </tr>\n",
              "  </thead>\n",
              "  <tbody>\n",
              "    <tr>\n",
              "      <th>0</th>\n",
              "      <td>Unopiu</td>\n",
              "      <td>48.866632</td>\n",
              "      <td>2.331637</td>\n",
              "      <td>2.2</td>\n",
              "      <td>-1</td>\n",
              "      <td>1</td>\n",
              "      <td>0</td>\n",
              "      <td>0</td>\n",
              "      <td>0</td>\n",
              "      <td>1</td>\n",
              "      <td>0</td>\n",
              "      <td>0</td>\n",
              "      <td>0</td>\n",
              "      <td>0</td>\n",
              "      <td>0</td>\n",
              "      <td>0</td>\n",
              "      <td>0</td>\n",
              "    </tr>\n",
              "    <tr>\n",
              "      <th>1</th>\n",
              "      <td>Olivier Hutzemakers</td>\n",
              "      <td>48.903289</td>\n",
              "      <td>2.339881</td>\n",
              "      <td>-1.0</td>\n",
              "      <td>-1</td>\n",
              "      <td>1</td>\n",
              "      <td>0</td>\n",
              "      <td>0</td>\n",
              "      <td>0</td>\n",
              "      <td>1</td>\n",
              "      <td>0</td>\n",
              "      <td>0</td>\n",
              "      <td>0</td>\n",
              "      <td>0</td>\n",
              "      <td>0</td>\n",
              "      <td>0</td>\n",
              "      <td>0</td>\n",
              "    </tr>\n",
              "    <tr>\n",
              "      <th>2</th>\n",
              "      <td>Téodor</td>\n",
              "      <td>48.847633</td>\n",
              "      <td>2.375378</td>\n",
              "      <td>-1.0</td>\n",
              "      <td>-1</td>\n",
              "      <td>1</td>\n",
              "      <td>0</td>\n",
              "      <td>0</td>\n",
              "      <td>0</td>\n",
              "      <td>1</td>\n",
              "      <td>0</td>\n",
              "      <td>0</td>\n",
              "      <td>0</td>\n",
              "      <td>0</td>\n",
              "      <td>0</td>\n",
              "      <td>0</td>\n",
              "      <td>0</td>\n",
              "    </tr>\n",
              "  </tbody>\n",
              "</table>\n",
              "</div>\n",
              "      <button class=\"colab-df-convert\" onclick=\"convertToInteractive('df-f0cd5b73-d1fc-4217-a6e1-ffb9942e57d3')\"\n",
              "              title=\"Convert this dataframe to an interactive table.\"\n",
              "              style=\"display:none;\">\n",
              "        \n",
              "  <svg xmlns=\"http://www.w3.org/2000/svg\" height=\"24px\"viewBox=\"0 0 24 24\"\n",
              "       width=\"24px\">\n",
              "    <path d=\"M0 0h24v24H0V0z\" fill=\"none\"/>\n",
              "    <path d=\"M18.56 5.44l.94 2.06.94-2.06 2.06-.94-2.06-.94-.94-2.06-.94 2.06-2.06.94zm-11 1L8.5 8.5l.94-2.06 2.06-.94-2.06-.94L8.5 2.5l-.94 2.06-2.06.94zm10 10l.94 2.06.94-2.06 2.06-.94-2.06-.94-.94-2.06-.94 2.06-2.06.94z\"/><path d=\"M17.41 7.96l-1.37-1.37c-.4-.4-.92-.59-1.43-.59-.52 0-1.04.2-1.43.59L10.3 9.45l-7.72 7.72c-.78.78-.78 2.05 0 2.83L4 21.41c.39.39.9.59 1.41.59.51 0 1.02-.2 1.41-.59l7.78-7.78 2.81-2.81c.8-.78.8-2.07 0-2.86zM5.41 20L4 18.59l7.72-7.72 1.47 1.35L5.41 20z\"/>\n",
              "  </svg>\n",
              "      </button>\n",
              "      \n",
              "  <style>\n",
              "    .colab-df-container {\n",
              "      display:flex;\n",
              "      flex-wrap:wrap;\n",
              "      gap: 12px;\n",
              "    }\n",
              "\n",
              "    .colab-df-convert {\n",
              "      background-color: #E8F0FE;\n",
              "      border: none;\n",
              "      border-radius: 50%;\n",
              "      cursor: pointer;\n",
              "      display: none;\n",
              "      fill: #1967D2;\n",
              "      height: 32px;\n",
              "      padding: 0 0 0 0;\n",
              "      width: 32px;\n",
              "    }\n",
              "\n",
              "    .colab-df-convert:hover {\n",
              "      background-color: #E2EBFA;\n",
              "      box-shadow: 0px 1px 2px rgba(60, 64, 67, 0.3), 0px 1px 3px 1px rgba(60, 64, 67, 0.15);\n",
              "      fill: #174EA6;\n",
              "    }\n",
              "\n",
              "    [theme=dark] .colab-df-convert {\n",
              "      background-color: #3B4455;\n",
              "      fill: #D2E3FC;\n",
              "    }\n",
              "\n",
              "    [theme=dark] .colab-df-convert:hover {\n",
              "      background-color: #434B5C;\n",
              "      box-shadow: 0px 1px 3px 1px rgba(0, 0, 0, 0.15);\n",
              "      filter: drop-shadow(0px 1px 2px rgba(0, 0, 0, 0.3));\n",
              "      fill: #FFFFFF;\n",
              "    }\n",
              "  </style>\n",
              "\n",
              "      <script>\n",
              "        const buttonEl =\n",
              "          document.querySelector('#df-f0cd5b73-d1fc-4217-a6e1-ffb9942e57d3 button.colab-df-convert');\n",
              "        buttonEl.style.display =\n",
              "          google.colab.kernel.accessAllowed ? 'block' : 'none';\n",
              "\n",
              "        async function convertToInteractive(key) {\n",
              "          const element = document.querySelector('#df-f0cd5b73-d1fc-4217-a6e1-ffb9942e57d3');\n",
              "          const dataTable =\n",
              "            await google.colab.kernel.invokeFunction('convertToInteractive',\n",
              "                                                     [key], {});\n",
              "          if (!dataTable) return;\n",
              "\n",
              "          const docLinkHtml = 'Like what you see? Visit the ' +\n",
              "            '<a target=\"_blank\" href=https://colab.research.google.com/notebooks/data_table.ipynb>data table notebook</a>'\n",
              "            + ' to learn more about interactive tables.';\n",
              "          element.innerHTML = '';\n",
              "          dataTable['output_type'] = 'display_data';\n",
              "          await google.colab.output.renderOutput(dataTable, element);\n",
              "          const docLink = document.createElement('div');\n",
              "          docLink.innerHTML = docLinkHtml;\n",
              "          element.appendChild(docLink);\n",
              "        }\n",
              "      </script>\n",
              "    </div>\n",
              "  </div>\n",
              "  "
            ]
          },
          "metadata": {},
          "execution_count": 6
        }
      ],
      "source": [
        "df = pd.read_csv(\"Datascience_Ressources/2022/TME1/poi-paris.csv\")\n",
        "df.head(3)"
      ]
    },
    {
      "cell_type": "markdown",
      "id": "a205da5b",
      "metadata": {
        "id": "a205da5b"
      },
      "source": [
        "Ce notebook a pour but d'aider a la révision des différentes notions vues lors des TME1-X et Y.\n",
        "Il présente une façon de revoir une partie des notions qui y sont étudiés et des exercices de synthèses pour s'exercer.\n",
        "\n",
        "C'est une ressource purement liée a une initiative personnelle du chargé de TME du groupe 11.6."
      ]
    },
    {
      "cell_type": "markdown",
      "id": "7ab0948e",
      "metadata": {
        "id": "7ab0948e"
      },
      "source": [
        "# Extraction de données\n",
        "\n",
        "Les premières notions vues en TME servent principalement a **extraire** des données a partir d'un DataFrame, ces notions permettent notamment de:\n",
        "- Récupérer et afficher les dimensions d'un DataFrame (lignes et colonnes).\n",
        "- Récupérer et afficher les intitulés des colonnes.\n",
        "- Décrire les colonnes (nombre de valeurs, moyenne, variance, quartiles etc...)\n",
        "- Afficher une ou plusieurs colonnes.\n",
        "- Afficher une ou plusieurs lignes.\n",
        "- Utiliser le slicing pour afficher une fraction contigue du DataFrame.\n",
        "\n",
        "#### Exercice: \n",
        "Décrivez le DataFrame composé des 5 premières colonnes et des 500 dernières lignes du dataframe **df** défini plus haut."
      ]
    },
    {
      "cell_type": "code",
      "execution_count": 7,
      "id": "471dd6d9",
      "metadata": {
        "id": "471dd6d9"
      },
      "outputs": [],
      "source": [
        "## A vous de jouer.\n"
      ]
    },
    {
      "cell_type": "markdown",
      "id": "4dbc3658",
      "metadata": {
        "id": "4dbc3658"
      },
      "source": [
        "# Filtrer les données\n",
        "\n",
        "Une fois qu'on a accés aux données d'un fichier a travers un DataFrame, on peut être intéressés par une observation partielle de ces données et donc on cherchera a les filtrer, ceci peut concerner:\n",
        "- Récupérer toutes les valeurs possibles d'une colonne (les modalités d'une variable).\n",
        "- Filtrer les lignes en fonction d'une condition logique sur les valeurs pour une colonne donnée.\n",
        "- Utiliser des opérateurs logiques pour combiner des conditions logiques.\n",
        "\n",
        "#### Exercice: \n",
        "Affichez le nombre de bar pour chaque prix possible."
      ]
    },
    {
      "cell_type": "code",
      "execution_count": 8,
      "id": "8497c75f",
      "metadata": {
        "id": "8497c75f"
      },
      "outputs": [],
      "source": [
        "#A vous de jouer."
      ]
    },
    {
      "cell_type": "markdown",
      "id": "f32c1c00",
      "metadata": {
        "id": "f32c1c00"
      },
      "source": [
        "# Aggréger les données et les étudier\n",
        "\n",
        "Les deux premiers points servaient a intéroger les données, les deux qui viennent concernerons plutot l'interprétation des données.\n",
        "\n",
        "- Calculer des indicateurs statistiqus (Moyennes, Fréquences, Variances, Quartiles ...) \n",
        "- Intérpréter les indicateurs statistiques.\n",
        "- Utiliser ces indicateurs statistiques pour répondre a des énoncés.\n",
        "\n",
        "#### Exercices: \n",
        "\n",
        "- Les bars qui font aussi restaurant sont-ils mieux notés en général ?\n",
        "- Quels types d'établissement ont les notes les plus dispersées ?\n",
        "- Le prix est-il corrélé a la distance au centre de Paris ?"
      ]
    },
    {
      "cell_type": "code",
      "execution_count": 9,
      "id": "8d1f7d94",
      "metadata": {
        "id": "8d1f7d94"
      },
      "outputs": [],
      "source": [
        "## A vous de jouer.\n"
      ]
    },
    {
      "cell_type": "code",
      "execution_count": 10,
      "id": "ef20f77c",
      "metadata": {
        "id": "ef20f77c"
      },
      "outputs": [],
      "source": [
        "## A vous de jouer.\n"
      ]
    },
    {
      "cell_type": "code",
      "execution_count": 11,
      "id": "3bdbc2ff",
      "metadata": {
        "id": "3bdbc2ff"
      },
      "outputs": [],
      "source": [
        "## A vous de jouer.\n"
      ]
    },
    {
      "cell_type": "markdown",
      "id": "2edd0522",
      "metadata": {
        "id": "2edd0522"
      },
      "source": [
        "# Visualiser les données\n",
        "Maintenant que nous savons extraire, filtrer et étudier les données pour les interpréter, il faut rendre notre interprétation la plus convaincante possible pour des personnes externes a notre domaine.\n",
        "\n",
        "Pour se faire on peut recourir a un visuel pour mettre en exergue la dimension des données qu'on souhaite mettre en avant et a ce moment la il faut:\n",
        "- Identifier le plot a utiliser.\n",
        "- Lire sa documentation pour comprendre les paramètres qu'il prend et ce qu'ils signifient.\n",
        "- Extraire les différents composants dont on aura besoin pour l'afficher.\n",
        "- L'afficher et le commenter.\n",
        "\n",
        "Si on reprend les trois énoncés précédents on peut par exemple proposer les énoncés suivants: \n",
        "\n",
        "#### Exercices: \n",
        "\n",
        "- Utilisez un bar plot pour comparer les notes des bars et des bars-restaurants.\n",
        "- Utilisez un violin plot pour étudier la dispersion des notes pour chaque établissement.\n",
        "- Utilisez un scatter plot pour étuider la dispersion spatiale des notes dans Paris."
      ]
    },
    {
      "cell_type": "code",
      "execution_count": 12,
      "id": "fed66c8c",
      "metadata": {
        "id": "fed66c8c"
      },
      "outputs": [],
      "source": [
        "## A vous de jouer.\n"
      ]
    },
    {
      "cell_type": "code",
      "execution_count": 13,
      "id": "7174fb78",
      "metadata": {
        "id": "7174fb78"
      },
      "outputs": [],
      "source": [
        "## A vous de jouer.\n"
      ]
    },
    {
      "cell_type": "code",
      "execution_count": 14,
      "id": "6cc7c017",
      "metadata": {
        "id": "6cc7c017"
      },
      "outputs": [],
      "source": [
        "## A vous de jouer.\n"
      ]
    },
    {
      "cell_type": "markdown",
      "id": "de9d2385",
      "metadata": {
        "id": "de9d2385"
      },
      "source": [
        "# Ressources additionnels\n",
        "\n",
        "Des ressources en plus que je trouve intéressantes a lire\n",
        "- Un guide de Pandas https://medium.com/swlh/the-mastery-of-pandas-i-50156db42125\n",
        "- Une explication visuelle de comment NumPy fonctionne https://betterprogramming.pub/numpy-illustrated-the-visual-guide-to-numpy-3b1d4976de1d\n",
        "- Pourquoi il ne faut pas faire de boucles quand on peut utiliser Pandas : Parce que ça peut être 71.803 fois plus lent https://towardsdatascience.com/how-to-make-your-pandas-loop-71-803-times-faster-805030df4f06"
      ]
    },
    {
      "cell_type": "code",
      "execution_count": null,
      "id": "5d405c50",
      "metadata": {
        "id": "5d405c50"
      },
      "outputs": [],
      "source": []
    }
  ],
  "metadata": {
    "kernelspec": {
      "display_name": "Python 3 (ipykernel)",
      "language": "python",
      "name": "python3"
    },
    "language_info": {
      "codemirror_mode": {
        "name": "ipython",
        "version": 3
      },
      "file_extension": ".py",
      "mimetype": "text/x-python",
      "name": "python",
      "nbconvert_exporter": "python",
      "pygments_lexer": "ipython3",
      "version": "3.9.12"
    },
    "colab": {
      "provenance": [],
      "include_colab_link": true
    }
  },
  "nbformat": 4,
  "nbformat_minor": 5
}